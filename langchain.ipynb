{
 "cells": [
  {
   "cell_type": "code",
   "execution_count": 9,
   "metadata": {},
   "outputs": [
    {
     "name": "stderr",
     "output_type": "stream",
     "text": [
      "libmagic is unavailable but assists in filetype detection. Please consider installing libmagic for better results.\n"
     ]
    }
   ],
   "source": [
    "from langchain_community.document_loaders import DirectoryLoader\n",
    "\n",
    "from dotenv import load_dotenv\n",
    "\n",
    "load_dotenv()\n",
    "\n",
    "loader = DirectoryLoader('data', glob=\"**/*.txt\")\n",
    "\n",
    "documents = loader.load()"
   ]
  },
  {
   "cell_type": "code",
   "execution_count": 10,
   "metadata": {},
   "outputs": [
    {
     "data": {
      "text/plain": [
       "[Document(metadata={'source': 'data/text.txt'}, page_content='Q: What makes our pizza unique? A: Our pizzas are made with a secret family recipe for the dough, hand-tossed, and topped with fresh, locally-sourced ingredients. We use a traditional wood-fired oven to give our pizzas a distinctive smoky flavor and crisp crust.\\n\\nQ: Do we offer gluten-free pizza options? A: Yes, we offer a delicious gluten-free crust option for our guests with dietary restrictions or preferences.\\n\\nQ: Can customers create their own pizza? A: Absolutely! Customers can choose from a variety of fresh toppings to create their own unique pizza masterpiece.\\n\\nQ: What are our most popular pizzas? A: Our most popular pizzas include the Classic Margherita, Pepperoni Supreme, and the Gourmet Vegetarian. Each offers a unique blend of flavors that cater to a variety of tastes.\\n\\nQ: Do we offer vegan pizza options? A: Yes, we have vegan pizza options which include dairy-free cheese and a variety of fresh vegetable toppings.\\n\\nQ: How long does it take to prepare a pizza? A: On average, it takes about 15-20 minutes from the time you order until your pizza is ready. This time ensures that each pizza is cooked to perfection.\\n\\nQ: Can customers order pizza for delivery? A: Yes, we offer delivery services within a certain radius of our restaurant, ensuring that you can enjoy our pizzas from the comfort of your home.')]"
      ]
     },
     "metadata": {},
     "output_type": "display_data"
    },
    {
     "name": "stdout",
     "output_type": "stream",
     "text": [
      "Q: What makes our pizza unique? A: Our pizzas are made with a secret family recipe for the dough, hand-tossed, and topped with fresh, locally-sourced ingredients. We use a traditional wood-fired oven to give our pizzas a distinctive smoky flavor and crisp crust.\n",
      "\n",
      "Q: Do we offer gluten-free pizza options? A: Yes, we offer a delicious gluten-free crust option for our guests with dietary restrictions or preferences.\n",
      "\n",
      "Q: Can customers create their own pizza? A: Absolutely! Customers can choose from a variety of fresh toppings to create their own unique pizza masterpiece.\n",
      "\n",
      "Q: What are our most popular pizzas? A: Our most popular pizzas include the Classic Margherita, Pepperoni Supreme, and the Gourmet Vegetarian. Each offers a unique blend of flavors that cater to a variety of tastes.\n",
      "\n",
      "Q: Do we offer vegan pizza options? A: Yes, we have vegan pizza options which include dairy-free cheese and a variety of fresh vegetable toppings.\n",
      "\n",
      "Q: How long does it take to prepare a pizza? A: On average, it takes about 15-20 minutes from the time you order until your pizza is ready. This time ensures that each pizza is cooked to perfection.\n",
      "\n",
      "Q: Can customers order pizza for delivery? A: Yes, we offer delivery services within a certain radius of our restaurant, ensuring that you can enjoy our pizzas from the comfort of your home.\n"
     ]
    }
   ],
   "source": [
    "display(documents)\n",
    "print(documents[0].page_content)"
   ]
  },
  {
   "cell_type": "code",
   "execution_count": 11,
   "metadata": {},
   "outputs": [],
   "source": [
    "from langchain.text_splitter import CharacterTextSplitter\n",
    "\n",
    "text_splitter = CharacterTextSplitter(\n",
    "    separator=\"\\n\\n\",\n",
    "    chunk_size=250,\n",
    "    chunk_overlap=10,\n",
    "    length_function=len,\n",
    "    is_separator_regex=False,\n",
    ")"
   ]
  },
  {
   "cell_type": "code",
   "execution_count": 12,
   "metadata": {},
   "outputs": [
    {
     "name": "stderr",
     "output_type": "stream",
     "text": [
      "Created a chunk of size 262, which is longer than the specified 250\n"
     ]
    },
    {
     "data": {
      "text/plain": [
       "[Document(metadata={'source': 'data/text.txt'}, page_content='Q: What makes our pizza unique? A: Our pizzas are made with a secret family recipe for the dough, hand-tossed, and topped with fresh, locally-sourced ingredients. We use a traditional wood-fired oven to give our pizzas a distinctive smoky flavor and crisp crust.'),\n",
       " Document(metadata={'source': 'data/text.txt'}, page_content='Q: Do we offer gluten-free pizza options? A: Yes, we offer a delicious gluten-free crust option for our guests with dietary restrictions or preferences.'),\n",
       " Document(metadata={'source': 'data/text.txt'}, page_content='Q: Can customers create their own pizza? A: Absolutely! Customers can choose from a variety of fresh toppings to create their own unique pizza masterpiece.'),\n",
       " Document(metadata={'source': 'data/text.txt'}, page_content='Q: What are our most popular pizzas? A: Our most popular pizzas include the Classic Margherita, Pepperoni Supreme, and the Gourmet Vegetarian. Each offers a unique blend of flavors that cater to a variety of tastes.'),\n",
       " Document(metadata={'source': 'data/text.txt'}, page_content='Q: Do we offer vegan pizza options? A: Yes, we have vegan pizza options which include dairy-free cheese and a variety of fresh vegetable toppings.'),\n",
       " Document(metadata={'source': 'data/text.txt'}, page_content='Q: How long does it take to prepare a pizza? A: On average, it takes about 15-20 minutes from the time you order until your pizza is ready. This time ensures that each pizza is cooked to perfection.'),\n",
       " Document(metadata={'source': 'data/text.txt'}, page_content='Q: Can customers order pizza for delivery? A: Yes, we offer delivery services within a certain radius of our restaurant, ensuring that you can enjoy our pizzas from the comfort of your home.')]"
      ]
     },
     "execution_count": 12,
     "metadata": {},
     "output_type": "execute_result"
    }
   ],
   "source": [
    "chunks = text_splitter.split_documents(documents)\n",
    "chunks"
   ]
  },
  {
   "cell_type": "code",
   "execution_count": null,
   "metadata": {},
   "outputs": [],
   "source": [
    "from langchain_openai import OpenAIEmbeddings\n",
    "from langchain_community.vectorstores import Chroma\n",
    "\n",
    "index = Chroma.from_documents(chunks, OpenAIEmbeddings())\n",
    "index"
   ]
  },
  {
   "cell_type": "code",
   "execution_count": 15,
   "metadata": {},
   "outputs": [
    {
     "data": {
      "text/plain": [
       "VectorStoreRetriever(tags=['Chroma', 'OpenAIEmbeddings'], vectorstore=<langchain_community.vectorstores.chroma.Chroma object at 0x3137a7a50>, search_kwargs={})"
      ]
     },
     "execution_count": 15,
     "metadata": {},
     "output_type": "execute_result"
    }
   ],
   "source": [
    "retriever = index.as_retriever()\n",
    "retriever"
   ]
  },
  {
   "cell_type": "code",
   "execution_count": 16,
   "metadata": {},
   "outputs": [
    {
     "name": "stderr",
     "output_type": "stream",
     "text": [
      "/var/folders/rc/mhd_cpn51zgb19njk4zbr5bm0000gp/T/ipykernel_44095/2625587907.py:1: LangChainDeprecationWarning: The method `BaseRetriever.get_relevant_documents` was deprecated in langchain-core 0.1.46 and will be removed in 1.0. Use :meth:`~invoke` instead.\n",
      "  retriever.get_relevant_documents(\"How long does it take to prepare a pizza\")\n"
     ]
    },
    {
     "data": {
      "text/plain": [
       "[Document(metadata={'source': 'data/text.txt'}, page_content='Q: How long does it take to prepare a pizza? A: On average, it takes about 15-20 minutes from the time you order until your pizza is ready. This time ensures that each pizza is cooked to perfection.'),\n",
       " Document(metadata={'source': 'data/text.txt'}, page_content='Q: What makes our pizza unique? A: Our pizzas are made with a secret family recipe for the dough, hand-tossed, and topped with fresh, locally-sourced ingredients. We use a traditional wood-fired oven to give our pizzas a distinctive smoky flavor and crisp crust.'),\n",
       " Document(metadata={'source': 'data/text.txt'}, page_content='Q: Can customers create their own pizza? A: Absolutely! Customers can choose from a variety of fresh toppings to create their own unique pizza masterpiece.'),\n",
       " Document(metadata={'source': 'data/text.txt'}, page_content='Q: What are our most popular pizzas? A: Our most popular pizzas include the Classic Margherita, Pepperoni Supreme, and the Gourmet Vegetarian. Each offers a unique blend of flavors that cater to a variety of tastes.')]"
      ]
     },
     "execution_count": 16,
     "metadata": {},
     "output_type": "execute_result"
    }
   ],
   "source": [
    "retriever.get_relevant_documents(\"How long does it take to prepare a pizza\")"
   ]
  },
  {
   "cell_type": "code",
   "execution_count": 17,
   "metadata": {},
   "outputs": [],
   "source": [
    "from operator import itemgetter\n",
    "\n",
    "template = \"\"\"\n",
    "Answer the question based only on the following context:\n",
    "{context}\n",
    "\n",
    "Answer the following question:\n",
    "Question: {question}\n",
    "\"\"\""
   ]
  },
  {
   "cell_type": "code",
   "execution_count": 18,
   "metadata": {},
   "outputs": [],
   "source": [
    "from langchain_core.output_parsers import StrOutputParser\n",
    "from langchain_core.prompts import ChatPromptTemplate\n",
    "from langchain_openai import ChatOpenAI\n",
    "\n",
    "prompt = ChatPromptTemplate.from_template(template)\n",
    "model = ChatOpenAI(model_name=\"gpt-3.5-turbo\")"
   ]
  },
  {
   "cell_type": "code",
   "execution_count": 19,
   "metadata": {},
   "outputs": [],
   "source": [
    "rag_chain = (\n",
    "    {\n",
    "        \"context\": itemgetter(\"question\") | retriever,\n",
    "        \"question\": itemgetter(\"question\")\n",
    "    }\n",
    "    | prompt\n",
    "    | model\n",
    "    | StrOutputParser()\n",
    ")"
   ]
  },
  {
   "cell_type": "code",
   "execution_count": 20,
   "metadata": {},
   "outputs": [
    {
     "data": {
      "text/plain": [
       "'On average, it takes about 15-20 minutes from the time you order until your pizza is ready.'"
      ]
     },
     "execution_count": 20,
     "metadata": {},
     "output_type": "execute_result"
    }
   ],
   "source": [
    "rag_chain.invoke({\"question\": \"How long does it take to prepare a pizza\"})"
   ]
  }
 ],
 "metadata": {
  "kernelspec": {
   "display_name": ".venv",
   "language": "python",
   "name": "python3"
  },
  "language_info": {
   "codemirror_mode": {
    "name": "ipython",
    "version": 3
   },
   "file_extension": ".py",
   "mimetype": "text/x-python",
   "name": "python",
   "nbconvert_exporter": "python",
   "pygments_lexer": "ipython3",
   "version": "3.11.11"
  }
 },
 "nbformat": 4,
 "nbformat_minor": 2
}
