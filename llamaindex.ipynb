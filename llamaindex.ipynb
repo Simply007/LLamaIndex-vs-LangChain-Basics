{
 "cells": [
  {
   "cell_type": "code",
   "execution_count": 1,
   "metadata": {},
   "outputs": [
    {
     "name": "stdout",
     "output_type": "stream",
     "text": [
      "[Document(id_='6750b923-8f19-4ada-a3c7-1d083a98e0dc', embedding=None, metadata={'file_path': '/Users/simply007/projects/LLamaIndex-vs-LangChain-Basics/data/text.txt', 'file_name': 'text.txt', 'file_type': 'text/plain', 'file_size': 1331, 'creation_date': '2025-02-24', 'last_modified_date': '2025-02-24'}, excluded_embed_metadata_keys=['file_name', 'file_type', 'file_size', 'creation_date', 'last_modified_date', 'last_accessed_date'], excluded_llm_metadata_keys=['file_name', 'file_type', 'file_size', 'creation_date', 'last_modified_date', 'last_accessed_date'], relationships={}, metadata_template='{key}: {value}', metadata_separator='\\n', text_resource=MediaResource(embeddings=None, data=None, text='Q: What makes our pizza unique?\\nA: Our pizzas are made with a secret family recipe for the dough, hand-tossed, and topped with fresh, locally-sourced ingredients. We use a traditional wood-fired oven to give our pizzas a distinctive smoky flavor and crisp crust.\\n\\nQ: Do we offer gluten-free pizza options?\\nA: Yes, we offer a delicious gluten-free crust option for our guests with dietary restrictions or preferences.\\n\\nQ: Can customers create their own pizza?\\nA: Absolutely! Customers can choose from a variety of fresh toppings to create their own unique pizza masterpiece.\\n\\nQ: What are our most popular pizzas?\\nA: Our most popular pizzas include the Classic Margherita, Pepperoni Supreme, and the Gourmet Vegetarian. Each offers a unique blend of flavors that cater to a variety of tastes.\\n\\nQ: Do we offer vegan pizza options?\\nA: Yes, we have vegan pizza options which include dairy-free cheese and a variety of fresh vegetable toppings.\\n\\nQ: How long does it take to prepare a pizza?\\nA: On average, it takes about 15-20 minutes from the time you order until your pizza is ready. This time ensures that each pizza is cooked to perfection.\\n\\nQ: Can customers order pizza for delivery?\\nA: Yes, we offer delivery services within a certain radius of our restaurant, ensuring that you can enjoy our pizzas from the comfort of your home.\\n', path=None, url=None, mimetype=None), image_resource=None, audio_resource=None, video_resource=None, text_template='{metadata_str}\\n\\n{content}')]\n",
      "Q: What makes our pizza unique?\n",
      "A: Our pizzas are made with a secret family recipe for the dough, hand-tossed, and topped with fresh, locally-sourced ingredients. We use a traditional wood-fired oven to give our pizzas a distinctive smoky flavor and crisp crust.\n",
      "\n",
      "Q: Do we offer gluten-free pizza options?\n",
      "A: Yes, we offer a delicious gluten-free crust option for our guests with dietary restrictions or preferences.\n",
      "\n",
      "Q: Can customers create their own pizza?\n",
      "A: Absolutely! Customers can choose from a variety of fresh toppings to create their own unique pizza masterpiece.\n",
      "\n",
      "Q: What are our most popular pizzas?\n",
      "A: Our most popular pizzas include the Classic Margherita, Pepperoni Supreme, and the Gourmet Vegetarian. Each offers a unique blend of flavors that cater to a variety of tastes.\n",
      "\n",
      "Q: Do we offer vegan pizza options?\n",
      "A: Yes, we have vegan pizza options which include dairy-free cheese and a variety of fresh vegetable toppings.\n",
      "\n",
      "Q: How long does it take to prepare a pizza?\n",
      "A: On average, it takes about 15-20 minutes from the time you order until your pizza is ready. This time ensures that each pizza is cooked to perfection.\n",
      "\n",
      "Q: Can customers order pizza for delivery?\n",
      "A: Yes, we offer delivery services within a certain radius of our restaurant, ensuring that you can enjoy our pizzas from the comfort of your home.\n"
     ]
    }
   ],
   "source": [
    "from llama_index.core import VectorStoreIndex, SimpleDirectoryReader\n",
    "from llama_index.llms.openai import OpenAI\n",
    "from llama_index.core import Settings\n",
    "from dotenv import load_dotenv\n",
    "\n",
    "load_dotenv()\n",
    "\n",
    "documents = SimpleDirectoryReader(\"data\").load_data()\n",
    "print(documents)\n",
    "print(documents[0].text)"
   ]
  },
  {
   "cell_type": "code",
   "execution_count": 2,
   "metadata": {},
   "outputs": [],
   "source": [
    "from llama_index.core.node_parser import SentenceSplitter\n",
    "\n",
    "text_splitter = SentenceSplitter(chunk_size=200, chunk_overlap=10)\n",
    "nodes = text_splitter.get_nodes_from_documents(documents=documents)\n"
   ]
  },
  {
   "cell_type": "code",
   "execution_count": 3,
   "metadata": {},
   "outputs": [
    {
     "data": {
      "text/plain": [
       "[TextNode(id_='3648c5f8-7009-4aec-9e28-8973312af03e', embedding=None, metadata={'file_path': '/Users/simply007/projects/LLamaIndex-vs-LangChain-Basics/data/text.txt', 'file_name': 'text.txt', 'file_type': 'text/plain', 'file_size': 1331, 'creation_date': '2025-02-24', 'last_modified_date': '2025-02-24'}, excluded_embed_metadata_keys=['file_name', 'file_type', 'file_size', 'creation_date', 'last_modified_date', 'last_accessed_date'], excluded_llm_metadata_keys=['file_name', 'file_type', 'file_size', 'creation_date', 'last_modified_date', 'last_accessed_date'], relationships={<NodeRelationship.SOURCE: '1'>: RelatedNodeInfo(node_id='6750b923-8f19-4ada-a3c7-1d083a98e0dc', node_type=<ObjectType.DOCUMENT: '4'>, metadata={'file_path': '/Users/simply007/projects/LLamaIndex-vs-LangChain-Basics/data/text.txt', 'file_name': 'text.txt', 'file_type': 'text/plain', 'file_size': 1331, 'creation_date': '2025-02-24', 'last_modified_date': '2025-02-24'}, hash='7b478ec4403a52aabeb087a5f13e1a5824d97292609875a6616d895e2b9f6ebd'), <NodeRelationship.NEXT: '3'>: RelatedNodeInfo(node_id='5275fbb7-c628-48a3-be39-5c794c9705b7', node_type=<ObjectType.TEXT: '1'>, metadata={}, hash='d6fd89f31ce0f0ab331b4255fe32cea116136ba82046dd01ba54b715a8474576')}, metadata_template='{key}: {value}', metadata_separator='\\n', text='Q: What makes our pizza unique?\\nA: Our pizzas are made with a secret family recipe for the dough, hand-tossed, and topped with fresh, locally-sourced ingredients. We use a traditional wood-fired oven to give our pizzas a distinctive smoky flavor and crisp crust.\\n\\nQ: Do we offer gluten-free pizza options?\\nA: Yes, we offer a delicious gluten-free crust option for our guests with dietary restrictions or preferences.\\n\\nQ: Can customers create their own pizza?\\nA: Absolutely! Customers can choose from a variety of fresh toppings to create their own unique pizza masterpiece.\\n\\nQ: What are our most popular pizzas?\\nA: Our most popular pizzas include the Classic Margherita, Pepperoni Supreme, and the Gourmet Vegetarian. Each offers a unique blend of flavors that cater to a variety of tastes.', mimetype='text/plain', start_char_idx=0, end_char_idx=790, metadata_seperator='\\n', text_template='{metadata_str}\\n\\n{content}'),\n",
       " TextNode(id_='5275fbb7-c628-48a3-be39-5c794c9705b7', embedding=None, metadata={'file_path': '/Users/simply007/projects/LLamaIndex-vs-LangChain-Basics/data/text.txt', 'file_name': 'text.txt', 'file_type': 'text/plain', 'file_size': 1331, 'creation_date': '2025-02-24', 'last_modified_date': '2025-02-24'}, excluded_embed_metadata_keys=['file_name', 'file_type', 'file_size', 'creation_date', 'last_modified_date', 'last_accessed_date'], excluded_llm_metadata_keys=['file_name', 'file_type', 'file_size', 'creation_date', 'last_modified_date', 'last_accessed_date'], relationships={<NodeRelationship.SOURCE: '1'>: RelatedNodeInfo(node_id='6750b923-8f19-4ada-a3c7-1d083a98e0dc', node_type=<ObjectType.DOCUMENT: '4'>, metadata={'file_path': '/Users/simply007/projects/LLamaIndex-vs-LangChain-Basics/data/text.txt', 'file_name': 'text.txt', 'file_type': 'text/plain', 'file_size': 1331, 'creation_date': '2025-02-24', 'last_modified_date': '2025-02-24'}, hash='7b478ec4403a52aabeb087a5f13e1a5824d97292609875a6616d895e2b9f6ebd'), <NodeRelationship.PREVIOUS: '2'>: RelatedNodeInfo(node_id='3648c5f8-7009-4aec-9e28-8973312af03e', node_type=<ObjectType.TEXT: '1'>, metadata={'file_path': '/Users/simply007/projects/LLamaIndex-vs-LangChain-Basics/data/text.txt', 'file_name': 'text.txt', 'file_type': 'text/plain', 'file_size': 1331, 'creation_date': '2025-02-24', 'last_modified_date': '2025-02-24'}, hash='48e4dfc99b5e16eeb5b2544148d13a5d49565e5fe982fc9a3ff7f1eedcbfcdb5')}, metadata_template='{key}: {value}', metadata_separator='\\n', text='Q: Do we offer vegan pizza options?\\nA: Yes, we have vegan pizza options which include dairy-free cheese and a variety of fresh vegetable toppings.\\n\\nQ: How long does it take to prepare a pizza?\\nA: On average, it takes about 15-20 minutes from the time you order until your pizza is ready. This time ensures that each pizza is cooked to perfection.\\n\\nQ: Can customers order pizza for delivery?\\nA: Yes, we offer delivery services within a certain radius of our restaurant, ensuring that you can enjoy our pizzas from the comfort of your home.', mimetype='text/plain', start_char_idx=792, end_char_idx=1330, metadata_seperator='\\n', text_template='{metadata_str}\\n\\n{content}')]"
      ]
     },
     "execution_count": 3,
     "metadata": {},
     "output_type": "execute_result"
    }
   ],
   "source": [
    "nodes"
   ]
  },
  {
   "cell_type": "code",
   "execution_count": 4,
   "metadata": {},
   "outputs": [
    {
     "name": "stdout",
     "output_type": "stream",
     "text": [
      "1\n",
      "2\n"
     ]
    }
   ],
   "source": [
    "print(len(documents))\n",
    "print(len(nodes))"
   ]
  },
  {
   "cell_type": "code",
   "execution_count": 5,
   "metadata": {},
   "outputs": [],
   "source": [
    "from llama_index.vector_stores.chroma import ChromaVectorStore\n",
    "import chromadb\n",
    "from llama_index.core import StorageContext\n",
    "from llama_index.embeddings.openai import OpenAIEmbedding\n",
    "\n",
    "chroma_client = chromadb.EphemeralClient()\n",
    "chroma_collection = chroma_client.create_collection(\"tes1233t\")\n",
    "vector_store = ChromaVectorStore(chroma_collection=chroma_collection)\n",
    "storage_context = StorageContext.from_defaults(vector_store=vector_store)"
   ]
  },
  {
   "cell_type": "code",
   "execution_count": null,
   "metadata": {},
   "outputs": [],
   "source": [
    "index = VectorStoreIndex.from_documents(\n",
    "    documents, storage_context=storage_context, embed_model=OpenAIEmbedding()\n",
    ")\n",
    "index"
   ]
  },
  {
   "cell_type": "code",
   "execution_count": null,
   "metadata": {},
   "outputs": [],
   "source": [
    "index = VectorStoreIndex(nodes=nodes, storage_context=storage_context, embed_model=OpenAIEmbedding())\n",
    "index"
   ]
  },
  {
   "cell_type": "code",
   "execution_count": 9,
   "metadata": {},
   "outputs": [
    {
     "data": {
      "text/plain": [
       "<llama_index.core.indices.vector_store.retrievers.retriever.VectorIndexRetriever at 0x30b9e44d0>"
      ]
     },
     "execution_count": 9,
     "metadata": {},
     "output_type": "execute_result"
    }
   ],
   "source": [
    "retriever = index.as_retriever()\n",
    "retriever"
   ]
  },
  {
   "cell_type": "code",
   "execution_count": 10,
   "metadata": {},
   "outputs": [
    {
     "data": {
      "text/plain": [
       "[NodeWithScore(node=TextNode(id_='5275fbb7-c628-48a3-be39-5c794c9705b7', embedding=None, metadata={'file_path': '/Users/simply007/projects/LLamaIndex-vs-LangChain-Basics/data/text.txt', 'file_name': 'text.txt', 'file_type': 'text/plain', 'file_size': 1331, 'creation_date': '2025-02-24', 'last_modified_date': '2025-02-24'}, excluded_embed_metadata_keys=['file_name', 'file_type', 'file_size', 'creation_date', 'last_modified_date', 'last_accessed_date'], excluded_llm_metadata_keys=['file_name', 'file_type', 'file_size', 'creation_date', 'last_modified_date', 'last_accessed_date'], relationships={<NodeRelationship.SOURCE: '1'>: RelatedNodeInfo(node_id='6750b923-8f19-4ada-a3c7-1d083a98e0dc', node_type='4', metadata={'file_path': '/Users/simply007/projects/LLamaIndex-vs-LangChain-Basics/data/text.txt', 'file_name': 'text.txt', 'file_type': 'text/plain', 'file_size': 1331, 'creation_date': '2025-02-24', 'last_modified_date': '2025-02-24'}, hash='7b478ec4403a52aabeb087a5f13e1a5824d97292609875a6616d895e2b9f6ebd'), <NodeRelationship.PREVIOUS: '2'>: RelatedNodeInfo(node_id='3648c5f8-7009-4aec-9e28-8973312af03e', node_type='1', metadata={'file_path': '/Users/simply007/projects/LLamaIndex-vs-LangChain-Basics/data/text.txt', 'file_name': 'text.txt', 'file_type': 'text/plain', 'file_size': 1331, 'creation_date': '2025-02-24', 'last_modified_date': '2025-02-24'}, hash='48e4dfc99b5e16eeb5b2544148d13a5d49565e5fe982fc9a3ff7f1eedcbfcdb5')}, metadata_template='{key}: {value}', metadata_separator='\\n', text='Q: Do we offer vegan pizza options?\\nA: Yes, we have vegan pizza options which include dairy-free cheese and a variety of fresh vegetable toppings.\\n\\nQ: How long does it take to prepare a pizza?\\nA: On average, it takes about 15-20 minutes from the time you order until your pizza is ready. This time ensures that each pizza is cooked to perfection.\\n\\nQ: Can customers order pizza for delivery?\\nA: Yes, we offer delivery services within a certain radius of our restaurant, ensuring that you can enjoy our pizzas from the comfort of your home.', mimetype='text/plain', start_char_idx=792, end_char_idx=1330, metadata_seperator='\\n', text_template='{metadata_str}\\n\\n{content}'), score=0.7531311694234171),\n",
       " NodeWithScore(node=TextNode(id_='83a16baa-696d-45b4-b8ae-09f789c52603', embedding=None, metadata={'file_path': '/Users/simply007/projects/LLamaIndex-vs-LangChain-Basics/data/text.txt', 'file_name': 'text.txt', 'file_type': 'text/plain', 'file_size': 1331, 'creation_date': '2025-02-24', 'last_modified_date': '2025-02-24'}, excluded_embed_metadata_keys=['file_name', 'file_type', 'file_size', 'creation_date', 'last_modified_date', 'last_accessed_date'], excluded_llm_metadata_keys=['file_name', 'file_type', 'file_size', 'creation_date', 'last_modified_date', 'last_accessed_date'], relationships={<NodeRelationship.SOURCE: '1'>: RelatedNodeInfo(node_id='6750b923-8f19-4ada-a3c7-1d083a98e0dc', node_type='4', metadata={'file_path': '/Users/simply007/projects/LLamaIndex-vs-LangChain-Basics/data/text.txt', 'file_name': 'text.txt', 'file_type': 'text/plain', 'file_size': 1331, 'creation_date': '2025-02-24', 'last_modified_date': '2025-02-24'}, hash='7b478ec4403a52aabeb087a5f13e1a5824d97292609875a6616d895e2b9f6ebd')}, metadata_template='{key}: {value}', metadata_separator='\\n', text='Q: What makes our pizza unique?\\nA: Our pizzas are made with a secret family recipe for the dough, hand-tossed, and topped with fresh, locally-sourced ingredients. We use a traditional wood-fired oven to give our pizzas a distinctive smoky flavor and crisp crust.\\n\\nQ: Do we offer gluten-free pizza options?\\nA: Yes, we offer a delicious gluten-free crust option for our guests with dietary restrictions or preferences.\\n\\nQ: Can customers create their own pizza?\\nA: Absolutely! Customers can choose from a variety of fresh toppings to create their own unique pizza masterpiece.\\n\\nQ: What are our most popular pizzas?\\nA: Our most popular pizzas include the Classic Margherita, Pepperoni Supreme, and the Gourmet Vegetarian. Each offers a unique blend of flavors that cater to a variety of tastes.\\n\\nQ: Do we offer vegan pizza options?\\nA: Yes, we have vegan pizza options which include dairy-free cheese and a variety of fresh vegetable toppings.\\n\\nQ: How long does it take to prepare a pizza?\\nA: On average, it takes about 15-20 minutes from the time you order until your pizza is ready. This time ensures that each pizza is cooked to perfection.\\n\\nQ: Can customers order pizza for delivery?\\nA: Yes, we offer delivery services within a certain radius of our restaurant, ensuring that you can enjoy our pizzas from the comfort of your home.', mimetype='text/plain', start_char_idx=0, end_char_idx=1330, metadata_seperator='\\n', text_template='{metadata_str}\\n\\n{content}'), score=0.7480772136982516)]"
      ]
     },
     "execution_count": 10,
     "metadata": {},
     "output_type": "execute_result"
    }
   ],
   "source": [
    "retriever.retrieve(\"How long does it take to prepare a pizza\")"
   ]
  },
  {
   "cell_type": "code",
   "execution_count": 11,
   "metadata": {},
   "outputs": [
    {
     "data": {
      "text/plain": [
       "Response(response='On average, it takes about 15-20 minutes from the time you order until your pizza is ready. This time ensures that each pizza is cooked to perfection.', source_nodes=[NodeWithScore(node=TextNode(id_='5275fbb7-c628-48a3-be39-5c794c9705b7', embedding=None, metadata={'file_path': '/Users/simply007/projects/LLamaIndex-vs-LangChain-Basics/data/text.txt', 'file_name': 'text.txt', 'file_type': 'text/plain', 'file_size': 1331, 'creation_date': '2025-02-24', 'last_modified_date': '2025-02-24'}, excluded_embed_metadata_keys=['file_name', 'file_type', 'file_size', 'creation_date', 'last_modified_date', 'last_accessed_date'], excluded_llm_metadata_keys=['file_name', 'file_type', 'file_size', 'creation_date', 'last_modified_date', 'last_accessed_date'], relationships={<NodeRelationship.SOURCE: '1'>: RelatedNodeInfo(node_id='6750b923-8f19-4ada-a3c7-1d083a98e0dc', node_type='4', metadata={'file_path': '/Users/simply007/projects/LLamaIndex-vs-LangChain-Basics/data/text.txt', 'file_name': 'text.txt', 'file_type': 'text/plain', 'file_size': 1331, 'creation_date': '2025-02-24', 'last_modified_date': '2025-02-24'}, hash='7b478ec4403a52aabeb087a5f13e1a5824d97292609875a6616d895e2b9f6ebd'), <NodeRelationship.PREVIOUS: '2'>: RelatedNodeInfo(node_id='3648c5f8-7009-4aec-9e28-8973312af03e', node_type='1', metadata={'file_path': '/Users/simply007/projects/LLamaIndex-vs-LangChain-Basics/data/text.txt', 'file_name': 'text.txt', 'file_type': 'text/plain', 'file_size': 1331, 'creation_date': '2025-02-24', 'last_modified_date': '2025-02-24'}, hash='48e4dfc99b5e16eeb5b2544148d13a5d49565e5fe982fc9a3ff7f1eedcbfcdb5')}, metadata_template='{key}: {value}', metadata_separator='\\n', text='Q: Do we offer vegan pizza options?\\nA: Yes, we have vegan pizza options which include dairy-free cheese and a variety of fresh vegetable toppings.\\n\\nQ: How long does it take to prepare a pizza?\\nA: On average, it takes about 15-20 minutes from the time you order until your pizza is ready. This time ensures that each pizza is cooked to perfection.\\n\\nQ: Can customers order pizza for delivery?\\nA: Yes, we offer delivery services within a certain radius of our restaurant, ensuring that you can enjoy our pizzas from the comfort of your home.', mimetype='text/plain', start_char_idx=792, end_char_idx=1330, metadata_seperator='\\n', text_template='{metadata_str}\\n\\n{content}'), score=0.7531311694234171), NodeWithScore(node=TextNode(id_='83a16baa-696d-45b4-b8ae-09f789c52603', embedding=None, metadata={'file_path': '/Users/simply007/projects/LLamaIndex-vs-LangChain-Basics/data/text.txt', 'file_name': 'text.txt', 'file_type': 'text/plain', 'file_size': 1331, 'creation_date': '2025-02-24', 'last_modified_date': '2025-02-24'}, excluded_embed_metadata_keys=['file_name', 'file_type', 'file_size', 'creation_date', 'last_modified_date', 'last_accessed_date'], excluded_llm_metadata_keys=['file_name', 'file_type', 'file_size', 'creation_date', 'last_modified_date', 'last_accessed_date'], relationships={<NodeRelationship.SOURCE: '1'>: RelatedNodeInfo(node_id='6750b923-8f19-4ada-a3c7-1d083a98e0dc', node_type='4', metadata={'file_path': '/Users/simply007/projects/LLamaIndex-vs-LangChain-Basics/data/text.txt', 'file_name': 'text.txt', 'file_type': 'text/plain', 'file_size': 1331, 'creation_date': '2025-02-24', 'last_modified_date': '2025-02-24'}, hash='7b478ec4403a52aabeb087a5f13e1a5824d97292609875a6616d895e2b9f6ebd')}, metadata_template='{key}: {value}', metadata_separator='\\n', text='Q: What makes our pizza unique?\\nA: Our pizzas are made with a secret family recipe for the dough, hand-tossed, and topped with fresh, locally-sourced ingredients. We use a traditional wood-fired oven to give our pizzas a distinctive smoky flavor and crisp crust.\\n\\nQ: Do we offer gluten-free pizza options?\\nA: Yes, we offer a delicious gluten-free crust option for our guests with dietary restrictions or preferences.\\n\\nQ: Can customers create their own pizza?\\nA: Absolutely! Customers can choose from a variety of fresh toppings to create their own unique pizza masterpiece.\\n\\nQ: What are our most popular pizzas?\\nA: Our most popular pizzas include the Classic Margherita, Pepperoni Supreme, and the Gourmet Vegetarian. Each offers a unique blend of flavors that cater to a variety of tastes.\\n\\nQ: Do we offer vegan pizza options?\\nA: Yes, we have vegan pizza options which include dairy-free cheese and a variety of fresh vegetable toppings.\\n\\nQ: How long does it take to prepare a pizza?\\nA: On average, it takes about 15-20 minutes from the time you order until your pizza is ready. This time ensures that each pizza is cooked to perfection.\\n\\nQ: Can customers order pizza for delivery?\\nA: Yes, we offer delivery services within a certain radius of our restaurant, ensuring that you can enjoy our pizzas from the comfort of your home.', mimetype='text/plain', start_char_idx=0, end_char_idx=1330, metadata_seperator='\\n', text_template='{metadata_str}\\n\\n{content}'), score=0.7480772136982516)], metadata={'5275fbb7-c628-48a3-be39-5c794c9705b7': {'file_path': '/Users/simply007/projects/LLamaIndex-vs-LangChain-Basics/data/text.txt', 'file_name': 'text.txt', 'file_type': 'text/plain', 'file_size': 1331, 'creation_date': '2025-02-24', 'last_modified_date': '2025-02-24'}, '83a16baa-696d-45b4-b8ae-09f789c52603': {'file_path': '/Users/simply007/projects/LLamaIndex-vs-LangChain-Basics/data/text.txt', 'file_name': 'text.txt', 'file_type': 'text/plain', 'file_size': 1331, 'creation_date': '2025-02-24', 'last_modified_date': '2025-02-24'}})"
      ]
     },
     "execution_count": 11,
     "metadata": {},
     "output_type": "execute_result"
    }
   ],
   "source": [
    "llm = OpenAI(model=\"gpt-3.5-turbo\")\n",
    "\n",
    "query_engine = index.as_query_engine(llm=llm)\n",
    "\n",
    "# Settings.llm = OpenAI(model=\"gpt-3.5-turbo\")\n",
    "\n",
    "query_engine.query(\"How long does it take to prepare a pizza\")"
   ]
  },
  {
   "cell_type": "code",
   "execution_count": 12,
   "metadata": {},
   "outputs": [
    {
     "name": "stdout",
     "output_type": "stream",
     "text": [
      "{'response_synthesizer:text_qa_template': SelectorPromptTemplate(metadata={'prompt_type': <PromptType.QUESTION_ANSWER: 'text_qa'>}, template_vars=['context_str', 'query_str'], kwargs={}, output_parser=None, template_var_mappings={}, function_mappings={}, default_template=PromptTemplate(metadata={'prompt_type': <PromptType.QUESTION_ANSWER: 'text_qa'>}, template_vars=['context_str', 'query_str'], kwargs={}, output_parser=None, template_var_mappings=None, function_mappings=None, template='Context information is below.\\n---------------------\\n{context_str}\\n---------------------\\nGiven the context information and not prior knowledge, answer the query.\\nQuery: {query_str}\\nAnswer: '), conditionals=[(<function is_chat_model at 0x11736d4e0>, ChatPromptTemplate(metadata={'prompt_type': <PromptType.CUSTOM: 'custom'>}, template_vars=['context_str', 'query_str'], kwargs={}, output_parser=None, template_var_mappings=None, function_mappings=None, message_templates=[ChatMessage(role=<MessageRole.SYSTEM: 'system'>, additional_kwargs={}, blocks=[TextBlock(block_type='text', text=\"You are an expert Q&A system that is trusted around the world.\\nAlways answer the query using the provided context information, and not prior knowledge.\\nSome rules to follow:\\n1. Never directly reference the given context in your answer.\\n2. Avoid statements like 'Based on the context, ...' or 'The context information ...' or anything along those lines.\")]), ChatMessage(role=<MessageRole.USER: 'user'>, additional_kwargs={}, blocks=[TextBlock(block_type='text', text='Context information is below.\\n---------------------\\n{context_str}\\n---------------------\\nGiven the context information and not prior knowledge, answer the query.\\nQuery: {query_str}\\nAnswer: ')])]))]), 'response_synthesizer:refine_template': SelectorPromptTemplate(metadata={'prompt_type': <PromptType.REFINE: 'refine'>}, template_vars=['query_str', 'existing_answer', 'context_msg'], kwargs={}, output_parser=None, template_var_mappings={}, function_mappings={}, default_template=PromptTemplate(metadata={'prompt_type': <PromptType.REFINE: 'refine'>}, template_vars=['query_str', 'existing_answer', 'context_msg'], kwargs={}, output_parser=None, template_var_mappings=None, function_mappings=None, template=\"The original query is as follows: {query_str}\\nWe have provided an existing answer: {existing_answer}\\nWe have the opportunity to refine the existing answer (only if needed) with some more context below.\\n------------\\n{context_msg}\\n------------\\nGiven the new context, refine the original answer to better answer the query. If the context isn't useful, return the original answer.\\nRefined Answer: \"), conditionals=[(<function is_chat_model at 0x11736d4e0>, ChatPromptTemplate(metadata={'prompt_type': <PromptType.CUSTOM: 'custom'>}, template_vars=['context_msg', 'query_str', 'existing_answer'], kwargs={}, output_parser=None, template_var_mappings=None, function_mappings=None, message_templates=[ChatMessage(role=<MessageRole.USER: 'user'>, additional_kwargs={}, blocks=[TextBlock(block_type='text', text=\"You are an expert Q&A system that strictly operates in two modes when refining existing answers:\\n1. **Rewrite** an original answer using the new context.\\n2. **Repeat** the original answer if the new context isn't useful.\\nNever reference the original answer or context directly in your answer.\\nWhen in doubt, just repeat the original answer.\\nNew Context: {context_msg}\\nQuery: {query_str}\\nOriginal Answer: {existing_answer}\\nNew Answer: \")])]))])}\n"
     ]
    }
   ],
   "source": [
    "prompts_dict = query_engine.get_prompts()\n",
    "print(prompts_dict)"
   ]
  },
  {
   "cell_type": "code",
   "execution_count": 13,
   "metadata": {},
   "outputs": [],
   "source": [
    "from llama_index.core import PromptTemplate\n",
    "\n",
    "\n",
    "new_summary_tmpl_str = (\n",
    "    \"You always say 'Hello my friend' at the beginning of your answer. Below you find data from a database\\n\"\n",
    "    \"{context_str}\\n\"\n",
    "    \"Take that context and try to answer the question with it.\"\n",
    "    \"Query: {query_str}\\n\"\n",
    "    \"Answer: \"\n",
    ")\n",
    "new_summary_tmpl = PromptTemplate(new_summary_tmpl_str)"
   ]
  },
  {
   "cell_type": "code",
   "execution_count": 14,
   "metadata": {},
   "outputs": [],
   "source": [
    "query_engine.update_prompts(\n",
    "    {\"response_synthesizer:text_qa_template\": new_summary_tmpl}\n",
    ")"
   ]
  },
  {
   "cell_type": "code",
   "execution_count": 15,
   "metadata": {},
   "outputs": [
    {
     "name": "stdout",
     "output_type": "stream",
     "text": [
      "{'response_synthesizer:text_qa_template': PromptTemplate(metadata={'prompt_type': <PromptType.CUSTOM: 'custom'>}, template_vars=['context_str', 'query_str'], kwargs={}, output_parser=None, template_var_mappings=None, function_mappings=None, template=\"You always say 'Hello my friend' at the beginning of your answer. Below you find data from a database\\n{context_str}\\nTake that context and try to answer the question with it.Query: {query_str}\\nAnswer: \"), 'response_synthesizer:refine_template': SelectorPromptTemplate(metadata={'prompt_type': <PromptType.REFINE: 'refine'>}, template_vars=['query_str', 'existing_answer', 'context_msg'], kwargs={}, output_parser=None, template_var_mappings={}, function_mappings={}, default_template=PromptTemplate(metadata={'prompt_type': <PromptType.REFINE: 'refine'>}, template_vars=['query_str', 'existing_answer', 'context_msg'], kwargs={}, output_parser=None, template_var_mappings=None, function_mappings=None, template=\"The original query is as follows: {query_str}\\nWe have provided an existing answer: {existing_answer}\\nWe have the opportunity to refine the existing answer (only if needed) with some more context below.\\n------------\\n{context_msg}\\n------------\\nGiven the new context, refine the original answer to better answer the query. If the context isn't useful, return the original answer.\\nRefined Answer: \"), conditionals=[(<function is_chat_model at 0x11736d4e0>, ChatPromptTemplate(metadata={'prompt_type': <PromptType.CUSTOM: 'custom'>}, template_vars=['context_msg', 'query_str', 'existing_answer'], kwargs={}, output_parser=None, template_var_mappings=None, function_mappings=None, message_templates=[ChatMessage(role=<MessageRole.USER: 'user'>, additional_kwargs={}, blocks=[TextBlock(block_type='text', text=\"You are an expert Q&A system that strictly operates in two modes when refining existing answers:\\n1. **Rewrite** an original answer using the new context.\\n2. **Repeat** the original answer if the new context isn't useful.\\nNever reference the original answer or context directly in your answer.\\nWhen in doubt, just repeat the original answer.\\nNew Context: {context_msg}\\nQuery: {query_str}\\nOriginal Answer: {existing_answer}\\nNew Answer: \")])]))])}\n"
     ]
    }
   ],
   "source": [
    "prompts_dict = query_engine.get_prompts()\n",
    "print(prompts_dict)"
   ]
  },
  {
   "cell_type": "code",
   "execution_count": 16,
   "metadata": {},
   "outputs": [
    {
     "data": {
      "text/plain": [
       "Response(response='Hello my friend,\\n\\nOn average, it takes about 15-20 minutes from the time you order until your pizza is ready. This time ensures that each pizza is cooked to perfection.', source_nodes=[NodeWithScore(node=TextNode(id_='5275fbb7-c628-48a3-be39-5c794c9705b7', embedding=None, metadata={'file_path': '/Users/simply007/projects/LLamaIndex-vs-LangChain-Basics/data/text.txt', 'file_name': 'text.txt', 'file_type': 'text/plain', 'file_size': 1331, 'creation_date': '2025-02-24', 'last_modified_date': '2025-02-24'}, excluded_embed_metadata_keys=['file_name', 'file_type', 'file_size', 'creation_date', 'last_modified_date', 'last_accessed_date'], excluded_llm_metadata_keys=['file_name', 'file_type', 'file_size', 'creation_date', 'last_modified_date', 'last_accessed_date'], relationships={<NodeRelationship.SOURCE: '1'>: RelatedNodeInfo(node_id='6750b923-8f19-4ada-a3c7-1d083a98e0dc', node_type='4', metadata={'file_path': '/Users/simply007/projects/LLamaIndex-vs-LangChain-Basics/data/text.txt', 'file_name': 'text.txt', 'file_type': 'text/plain', 'file_size': 1331, 'creation_date': '2025-02-24', 'last_modified_date': '2025-02-24'}, hash='7b478ec4403a52aabeb087a5f13e1a5824d97292609875a6616d895e2b9f6ebd'), <NodeRelationship.PREVIOUS: '2'>: RelatedNodeInfo(node_id='3648c5f8-7009-4aec-9e28-8973312af03e', node_type='1', metadata={'file_path': '/Users/simply007/projects/LLamaIndex-vs-LangChain-Basics/data/text.txt', 'file_name': 'text.txt', 'file_type': 'text/plain', 'file_size': 1331, 'creation_date': '2025-02-24', 'last_modified_date': '2025-02-24'}, hash='48e4dfc99b5e16eeb5b2544148d13a5d49565e5fe982fc9a3ff7f1eedcbfcdb5')}, metadata_template='{key}: {value}', metadata_separator='\\n', text='Q: Do we offer vegan pizza options?\\nA: Yes, we have vegan pizza options which include dairy-free cheese and a variety of fresh vegetable toppings.\\n\\nQ: How long does it take to prepare a pizza?\\nA: On average, it takes about 15-20 minutes from the time you order until your pizza is ready. This time ensures that each pizza is cooked to perfection.\\n\\nQ: Can customers order pizza for delivery?\\nA: Yes, we offer delivery services within a certain radius of our restaurant, ensuring that you can enjoy our pizzas from the comfort of your home.', mimetype='text/plain', start_char_idx=792, end_char_idx=1330, metadata_seperator='\\n', text_template='{metadata_str}\\n\\n{content}'), score=0.7531311694234171), NodeWithScore(node=TextNode(id_='83a16baa-696d-45b4-b8ae-09f789c52603', embedding=None, metadata={'file_path': '/Users/simply007/projects/LLamaIndex-vs-LangChain-Basics/data/text.txt', 'file_name': 'text.txt', 'file_type': 'text/plain', 'file_size': 1331, 'creation_date': '2025-02-24', 'last_modified_date': '2025-02-24'}, excluded_embed_metadata_keys=['file_name', 'file_type', 'file_size', 'creation_date', 'last_modified_date', 'last_accessed_date'], excluded_llm_metadata_keys=['file_name', 'file_type', 'file_size', 'creation_date', 'last_modified_date', 'last_accessed_date'], relationships={<NodeRelationship.SOURCE: '1'>: RelatedNodeInfo(node_id='6750b923-8f19-4ada-a3c7-1d083a98e0dc', node_type='4', metadata={'file_path': '/Users/simply007/projects/LLamaIndex-vs-LangChain-Basics/data/text.txt', 'file_name': 'text.txt', 'file_type': 'text/plain', 'file_size': 1331, 'creation_date': '2025-02-24', 'last_modified_date': '2025-02-24'}, hash='7b478ec4403a52aabeb087a5f13e1a5824d97292609875a6616d895e2b9f6ebd')}, metadata_template='{key}: {value}', metadata_separator='\\n', text='Q: What makes our pizza unique?\\nA: Our pizzas are made with a secret family recipe for the dough, hand-tossed, and topped with fresh, locally-sourced ingredients. We use a traditional wood-fired oven to give our pizzas a distinctive smoky flavor and crisp crust.\\n\\nQ: Do we offer gluten-free pizza options?\\nA: Yes, we offer a delicious gluten-free crust option for our guests with dietary restrictions or preferences.\\n\\nQ: Can customers create their own pizza?\\nA: Absolutely! Customers can choose from a variety of fresh toppings to create their own unique pizza masterpiece.\\n\\nQ: What are our most popular pizzas?\\nA: Our most popular pizzas include the Classic Margherita, Pepperoni Supreme, and the Gourmet Vegetarian. Each offers a unique blend of flavors that cater to a variety of tastes.\\n\\nQ: Do we offer vegan pizza options?\\nA: Yes, we have vegan pizza options which include dairy-free cheese and a variety of fresh vegetable toppings.\\n\\nQ: How long does it take to prepare a pizza?\\nA: On average, it takes about 15-20 minutes from the time you order until your pizza is ready. This time ensures that each pizza is cooked to perfection.\\n\\nQ: Can customers order pizza for delivery?\\nA: Yes, we offer delivery services within a certain radius of our restaurant, ensuring that you can enjoy our pizzas from the comfort of your home.', mimetype='text/plain', start_char_idx=0, end_char_idx=1330, metadata_seperator='\\n', text_template='{metadata_str}\\n\\n{content}'), score=0.7480772136982516)], metadata={'5275fbb7-c628-48a3-be39-5c794c9705b7': {'file_path': '/Users/simply007/projects/LLamaIndex-vs-LangChain-Basics/data/text.txt', 'file_name': 'text.txt', 'file_type': 'text/plain', 'file_size': 1331, 'creation_date': '2025-02-24', 'last_modified_date': '2025-02-24'}, '83a16baa-696d-45b4-b8ae-09f789c52603': {'file_path': '/Users/simply007/projects/LLamaIndex-vs-LangChain-Basics/data/text.txt', 'file_name': 'text.txt', 'file_type': 'text/plain', 'file_size': 1331, 'creation_date': '2025-02-24', 'last_modified_date': '2025-02-24'}})"
      ]
     },
     "execution_count": 16,
     "metadata": {},
     "output_type": "execute_result"
    }
   ],
   "source": [
    "query_engine.query(\"How long does it take to prepare a pizza\")"
   ]
  }
 ],
 "metadata": {
  "kernelspec": {
   "display_name": ".venv",
   "language": "python",
   "name": "python3"
  },
  "language_info": {
   "codemirror_mode": {
    "name": "ipython",
    "version": 3
   },
   "file_extension": ".py",
   "mimetype": "text/x-python",
   "name": "python",
   "nbconvert_exporter": "python",
   "pygments_lexer": "ipython3",
   "version": "3.11.11"
  }
 },
 "nbformat": 4,
 "nbformat_minor": 2
}
